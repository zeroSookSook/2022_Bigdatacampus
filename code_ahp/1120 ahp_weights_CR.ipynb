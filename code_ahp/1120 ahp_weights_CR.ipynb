{
 "cells": [
  {
   "cell_type": "code",
   "execution_count": 1,
   "id": "6c3899dc",
   "metadata": {},
   "outputs": [],
   "source": [
    "import pandas as pd\n",
    "import numpy as np\n",
    "\n",
    "import requests\n",
    "import openpyxl as xl\n",
    "import time\n",
    "import json\n",
    "\n",
    "from sklearn import preprocessing\n",
    "\n",
    "from sklearn.preprocessing import MinMaxScaler\n",
    "from sklearn.preprocessing import StandardScaler\n",
    "from sklearn.preprocessing import RobustScaler\n",
    "\n",
    "import warnings\n",
    "warnings.filterwarnings(action='ignore') # 경고메세지 숨기기"
   ]
  },
  {
   "cell_type": "code",
   "execution_count": 2,
   "id": "8ddcd3f5",
   "metadata": {},
   "outputs": [],
   "source": [
    "from pathlib import Path\n",
    "import matplotlib.pylab as plt\n",
    "import seaborn as sns"
   ]
  },
  {
   "cell_type": "code",
   "execution_count": 3,
   "id": "3ce12be1",
   "metadata": {},
   "outputs": [
    {
     "data": {
      "text/html": [
       "<div>\n",
       "<style scoped>\n",
       "    .dataframe tbody tr th:only-of-type {\n",
       "        vertical-align: middle;\n",
       "    }\n",
       "\n",
       "    .dataframe tbody tr th {\n",
       "        vertical-align: top;\n",
       "    }\n",
       "\n",
       "    .dataframe thead th {\n",
       "        text-align: right;\n",
       "    }\n",
       "</style>\n",
       "<table border=\"1\" class=\"dataframe\">\n",
       "  <thead>\n",
       "    <tr style=\"text-align: right;\">\n",
       "      <th></th>\n",
       "      <th>gd_nm</th>\n",
       "      <th>goo_nm</th>\n",
       "      <th>dong_ID</th>\n",
       "      <th>dong_nm</th>\n",
       "      <th>sum_pop</th>\n",
       "      <th>one_hh</th>\n",
       "      <th>cc_value</th>\n",
       "      <th>count_zero</th>\n",
       "      <th>sum_bus</th>\n",
       "      <th>sum_station</th>\n",
       "      <th>sum_rank</th>\n",
       "      <th>y</th>\n",
       "      <th>x</th>\n",
       "    </tr>\n",
       "  </thead>\n",
       "  <tbody>\n",
       "    <tr>\n",
       "      <th>0</th>\n",
       "      <td>강남구 개포1동</td>\n",
       "      <td>강남구</td>\n",
       "      <td>11680660</td>\n",
       "      <td>개포1동</td>\n",
       "      <td>6670</td>\n",
       "      <td>468</td>\n",
       "      <td>0</td>\n",
       "      <td>0</td>\n",
       "      <td>1375563</td>\n",
       "      <td>0</td>\n",
       "      <td>24</td>\n",
       "      <td>37.481925</td>\n",
       "      <td>127.057439</td>\n",
       "    </tr>\n",
       "    <tr>\n",
       "      <th>1</th>\n",
       "      <td>강남구 개포2동</td>\n",
       "      <td>강남구</td>\n",
       "      <td>11680670</td>\n",
       "      <td>개포2동</td>\n",
       "      <td>22297</td>\n",
       "      <td>900</td>\n",
       "      <td>0</td>\n",
       "      <td>0</td>\n",
       "      <td>2063259</td>\n",
       "      <td>0</td>\n",
       "      <td>21</td>\n",
       "      <td>37.489766</td>\n",
       "      <td>127.069056</td>\n",
       "    </tr>\n",
       "    <tr>\n",
       "      <th>2</th>\n",
       "      <td>강남구 개포4동</td>\n",
       "      <td>강남구</td>\n",
       "      <td>11680690</td>\n",
       "      <td>개포4동</td>\n",
       "      <td>22765</td>\n",
       "      <td>1938</td>\n",
       "      <td>10</td>\n",
       "      <td>0</td>\n",
       "      <td>2191248</td>\n",
       "      <td>0</td>\n",
       "      <td>15</td>\n",
       "      <td>37.478833</td>\n",
       "      <td>127.051599</td>\n",
       "    </tr>\n",
       "    <tr>\n",
       "      <th>3</th>\n",
       "      <td>강남구 논현1동</td>\n",
       "      <td>강남구</td>\n",
       "      <td>11680521</td>\n",
       "      <td>논현1동</td>\n",
       "      <td>23734</td>\n",
       "      <td>6054</td>\n",
       "      <td>30</td>\n",
       "      <td>0</td>\n",
       "      <td>6614782</td>\n",
       "      <td>12558668</td>\n",
       "      <td>18</td>\n",
       "      <td>37.511498</td>\n",
       "      <td>127.028552</td>\n",
       "    </tr>\n",
       "    <tr>\n",
       "      <th>4</th>\n",
       "      <td>강남구 논현2동</td>\n",
       "      <td>강남구</td>\n",
       "      <td>11680531</td>\n",
       "      <td>논현2동</td>\n",
       "      <td>21997</td>\n",
       "      <td>3926</td>\n",
       "      <td>30</td>\n",
       "      <td>0</td>\n",
       "      <td>4271209</td>\n",
       "      <td>11846451</td>\n",
       "      <td>19</td>\n",
       "      <td>37.517353</td>\n",
       "      <td>127.037164</td>\n",
       "    </tr>\n",
       "    <tr>\n",
       "      <th>...</th>\n",
       "      <td>...</td>\n",
       "      <td>...</td>\n",
       "      <td>...</td>\n",
       "      <td>...</td>\n",
       "      <td>...</td>\n",
       "      <td>...</td>\n",
       "      <td>...</td>\n",
       "      <td>...</td>\n",
       "      <td>...</td>\n",
       "      <td>...</td>\n",
       "      <td>...</td>\n",
       "      <td>...</td>\n",
       "      <td>...</td>\n",
       "    </tr>\n",
       "    <tr>\n",
       "      <th>64</th>\n",
       "      <td>송파구 잠실7동</td>\n",
       "      <td>송파구</td>\n",
       "      <td>11710720</td>\n",
       "      <td>잠실7동</td>\n",
       "      <td>9903</td>\n",
       "      <td>251</td>\n",
       "      <td>0</td>\n",
       "      <td>0</td>\n",
       "      <td>1491348</td>\n",
       "      <td>2999128</td>\n",
       "      <td>35</td>\n",
       "      <td>37.508661</td>\n",
       "      <td>127.077090</td>\n",
       "    </tr>\n",
       "    <tr>\n",
       "      <th>65</th>\n",
       "      <td>송파구 잠실본동</td>\n",
       "      <td>송파구</td>\n",
       "      <td>11710650</td>\n",
       "      <td>잠실본동</td>\n",
       "      <td>29093</td>\n",
       "      <td>5462</td>\n",
       "      <td>30</td>\n",
       "      <td>0</td>\n",
       "      <td>3519634</td>\n",
       "      <td>1537940</td>\n",
       "      <td>33</td>\n",
       "      <td>37.506167</td>\n",
       "      <td>127.084325</td>\n",
       "    </tr>\n",
       "    <tr>\n",
       "      <th>66</th>\n",
       "      <td>송파구 장지동</td>\n",
       "      <td>송파구</td>\n",
       "      <td>11710646</td>\n",
       "      <td>장지동</td>\n",
       "      <td>30370</td>\n",
       "      <td>2288</td>\n",
       "      <td>30</td>\n",
       "      <td>0</td>\n",
       "      <td>3540476</td>\n",
       "      <td>0</td>\n",
       "      <td>32</td>\n",
       "      <td>37.477368</td>\n",
       "      <td>127.131914</td>\n",
       "    </tr>\n",
       "    <tr>\n",
       "      <th>67</th>\n",
       "      <td>송파구 풍납1동</td>\n",
       "      <td>송파구</td>\n",
       "      <td>11710510</td>\n",
       "      <td>풍납1동</td>\n",
       "      <td>14585</td>\n",
       "      <td>1556</td>\n",
       "      <td>0</td>\n",
       "      <td>0</td>\n",
       "      <td>1185664</td>\n",
       "      <td>0</td>\n",
       "      <td>34</td>\n",
       "      <td>37.538055</td>\n",
       "      <td>127.122215</td>\n",
       "    </tr>\n",
       "    <tr>\n",
       "      <th>68</th>\n",
       "      <td>송파구 풍납2동</td>\n",
       "      <td>송파구</td>\n",
       "      <td>11710520</td>\n",
       "      <td>풍납2동</td>\n",
       "      <td>25703</td>\n",
       "      <td>2398</td>\n",
       "      <td>0</td>\n",
       "      <td>1</td>\n",
       "      <td>2236027</td>\n",
       "      <td>0</td>\n",
       "      <td>36</td>\n",
       "      <td>37.528779</td>\n",
       "      <td>127.116814</td>\n",
       "    </tr>\n",
       "  </tbody>\n",
       "</table>\n",
       "<p>69 rows × 13 columns</p>\n",
       "</div>"
      ],
      "text/plain": [
       "       gd_nm goo_nm   dong_ID dong_nm  sum_pop  one_hh  cc_value  count_zero  \\\n",
       "0   강남구 개포1동    강남구  11680660    개포1동     6670     468         0           0   \n",
       "1   강남구 개포2동    강남구  11680670    개포2동    22297     900         0           0   \n",
       "2   강남구 개포4동    강남구  11680690    개포4동    22765    1938        10           0   \n",
       "3   강남구 논현1동    강남구  11680521    논현1동    23734    6054        30           0   \n",
       "4   강남구 논현2동    강남구  11680531    논현2동    21997    3926        30           0   \n",
       "..       ...    ...       ...     ...      ...     ...       ...         ...   \n",
       "64  송파구 잠실7동    송파구  11710720    잠실7동     9903     251         0           0   \n",
       "65  송파구 잠실본동    송파구  11710650    잠실본동    29093    5462        30           0   \n",
       "66   송파구 장지동    송파구  11710646     장지동    30370    2288        30           0   \n",
       "67  송파구 풍납1동    송파구  11710510    풍납1동    14585    1556         0           0   \n",
       "68  송파구 풍납2동    송파구  11710520    풍납2동    25703    2398         0           1   \n",
       "\n",
       "    sum_bus  sum_station  sum_rank          y           x  \n",
       "0   1375563            0        24  37.481925  127.057439  \n",
       "1   2063259            0        21  37.489766  127.069056  \n",
       "2   2191248            0        15  37.478833  127.051599  \n",
       "3   6614782     12558668        18  37.511498  127.028552  \n",
       "4   4271209     11846451        19  37.517353  127.037164  \n",
       "..      ...          ...       ...        ...         ...  \n",
       "64  1491348      2999128        35  37.508661  127.077090  \n",
       "65  3519634      1537940        33  37.506167  127.084325  \n",
       "66  3540476            0        32  37.477368  127.131914  \n",
       "67  1185664            0        34  37.538055  127.122215  \n",
       "68  2236027            0        36  37.528779  127.116814  \n",
       "\n",
       "[69 rows x 13 columns]"
      ]
     },
     "execution_count": 3,
     "metadata": {},
     "output_type": "execute_result"
    }
   ],
   "source": [
    "df = pd.read_excel(\"real_fin_zero.xlsx\")\n",
    "df"
   ]
  },
  {
   "cell_type": "code",
   "execution_count": 4,
   "id": "0a6796a4",
   "metadata": {},
   "outputs": [],
   "source": [
    "df[\"one_ratio\"] = df[\"one_hh\"]/df[\"sum_pop\"]\n",
    "df[\"sum_trans\"] = df[\"sum_bus\"] + df[\"sum_station\"]"
   ]
  },
  {
   "cell_type": "code",
   "execution_count": 5,
   "id": "e7a7baff",
   "metadata": {},
   "outputs": [],
   "source": [
    "df2=df[['goo_nm', 'dong_nm', 'sum_rank','one_ratio', 'cc_value', 'count_zero', 'sum_trans']]"
   ]
  },
  {
   "cell_type": "code",
   "execution_count": 6,
   "id": "6a8416d1",
   "metadata": {},
   "outputs": [],
   "source": [
    "df2.to_excel(\"ecorank_ahp_df.xlsx\")"
   ]
  },
  {
   "cell_type": "code",
   "execution_count": null,
   "id": "358cbe39",
   "metadata": {},
   "outputs": [],
   "source": []
  },
  {
   "cell_type": "markdown",
   "id": "7b1c9f4c",
   "metadata": {},
   "source": [
    "# 쌍대비교 행렬 생성\n",
    "입지 평가 지표로 선정된 지표의 가중치를 산정하기 \n",
    "위해 AHP 분석을 시행"
   ]
  },
  {
   "cell_type": "code",
   "execution_count": 8,
   "id": "09316197",
   "metadata": {},
   "outputs": [],
   "source": [
    "mt = pd.read_excel(\"mid_ahp.xlsx\") \n",
    "mt2 = mt[mt[\"count_zero\"]!=1] # count_zero 배제하고 생각\n",
    "mt2 = mt2.drop(columns={\"count_zero\"})\n",
    "mt2 = mt2.reset_index()\n",
    "mt2 = mt2.drop(columns={\"index\"})"
   ]
  },
  {
   "cell_type": "code",
   "execution_count": 9,
   "id": "01fc2cac",
   "metadata": {},
   "outputs": [
    {
     "data": {
      "text/html": [
       "<div>\n",
       "<style scoped>\n",
       "    .dataframe tbody tr th:only-of-type {\n",
       "        vertical-align: middle;\n",
       "    }\n",
       "\n",
       "    .dataframe tbody tr th {\n",
       "        vertical-align: top;\n",
       "    }\n",
       "\n",
       "    .dataframe thead th {\n",
       "        text-align: right;\n",
       "    }\n",
       "</style>\n",
       "<table border=\"1\" class=\"dataframe\">\n",
       "  <thead>\n",
       "    <tr style=\"text-align: right;\">\n",
       "      <th></th>\n",
       "      <th>goo_nm</th>\n",
       "      <th>dong_nm</th>\n",
       "      <th>sum_rank</th>\n",
       "      <th>one_ratio</th>\n",
       "      <th>cc_value</th>\n",
       "      <th>sum_trans</th>\n",
       "    </tr>\n",
       "  </thead>\n",
       "  <tbody>\n",
       "    <tr>\n",
       "      <th>0</th>\n",
       "      <td>강남구</td>\n",
       "      <td>개포1동</td>\n",
       "      <td>24</td>\n",
       "      <td>0.070165</td>\n",
       "      <td>0</td>\n",
       "      <td>1375563</td>\n",
       "    </tr>\n",
       "    <tr>\n",
       "      <th>1</th>\n",
       "      <td>강남구</td>\n",
       "      <td>개포2동</td>\n",
       "      <td>21</td>\n",
       "      <td>0.040364</td>\n",
       "      <td>0</td>\n",
       "      <td>2063259</td>\n",
       "    </tr>\n",
       "    <tr>\n",
       "      <th>2</th>\n",
       "      <td>강남구</td>\n",
       "      <td>개포4동</td>\n",
       "      <td>15</td>\n",
       "      <td>0.085131</td>\n",
       "      <td>10</td>\n",
       "      <td>2191248</td>\n",
       "    </tr>\n",
       "    <tr>\n",
       "      <th>3</th>\n",
       "      <td>강남구</td>\n",
       "      <td>논현1동</td>\n",
       "      <td>18</td>\n",
       "      <td>0.255077</td>\n",
       "      <td>30</td>\n",
       "      <td>19173450</td>\n",
       "    </tr>\n",
       "    <tr>\n",
       "      <th>4</th>\n",
       "      <td>강남구</td>\n",
       "      <td>논현2동</td>\n",
       "      <td>19</td>\n",
       "      <td>0.178479</td>\n",
       "      <td>30</td>\n",
       "      <td>16117660</td>\n",
       "    </tr>\n",
       "    <tr>\n",
       "      <th>...</th>\n",
       "      <td>...</td>\n",
       "      <td>...</td>\n",
       "      <td>...</td>\n",
       "      <td>...</td>\n",
       "      <td>...</td>\n",
       "      <td>...</td>\n",
       "    </tr>\n",
       "    <tr>\n",
       "      <th>60</th>\n",
       "      <td>송파구</td>\n",
       "      <td>잠실6동</td>\n",
       "      <td>27</td>\n",
       "      <td>0.027698</td>\n",
       "      <td>20</td>\n",
       "      <td>29746442</td>\n",
       "    </tr>\n",
       "    <tr>\n",
       "      <th>61</th>\n",
       "      <td>송파구</td>\n",
       "      <td>잠실7동</td>\n",
       "      <td>35</td>\n",
       "      <td>0.025346</td>\n",
       "      <td>0</td>\n",
       "      <td>4490476</td>\n",
       "    </tr>\n",
       "    <tr>\n",
       "      <th>62</th>\n",
       "      <td>송파구</td>\n",
       "      <td>잠실본동</td>\n",
       "      <td>33</td>\n",
       "      <td>0.187743</td>\n",
       "      <td>30</td>\n",
       "      <td>5057574</td>\n",
       "    </tr>\n",
       "    <tr>\n",
       "      <th>63</th>\n",
       "      <td>송파구</td>\n",
       "      <td>장지동</td>\n",
       "      <td>32</td>\n",
       "      <td>0.075338</td>\n",
       "      <td>30</td>\n",
       "      <td>3540476</td>\n",
       "    </tr>\n",
       "    <tr>\n",
       "      <th>64</th>\n",
       "      <td>송파구</td>\n",
       "      <td>풍납1동</td>\n",
       "      <td>34</td>\n",
       "      <td>0.106685</td>\n",
       "      <td>0</td>\n",
       "      <td>1185664</td>\n",
       "    </tr>\n",
       "  </tbody>\n",
       "</table>\n",
       "<p>65 rows × 6 columns</p>\n",
       "</div>"
      ],
      "text/plain": [
       "   goo_nm dong_nm  sum_rank  one_ratio  cc_value  sum_trans\n",
       "0     강남구    개포1동        24   0.070165         0    1375563\n",
       "1     강남구    개포2동        21   0.040364         0    2063259\n",
       "2     강남구    개포4동        15   0.085131        10    2191248\n",
       "3     강남구    논현1동        18   0.255077        30   19173450\n",
       "4     강남구    논현2동        19   0.178479        30   16117660\n",
       "..    ...     ...       ...        ...       ...        ...\n",
       "60    송파구    잠실6동        27   0.027698        20   29746442\n",
       "61    송파구    잠실7동        35   0.025346         0    4490476\n",
       "62    송파구    잠실본동        33   0.187743        30    5057574\n",
       "63    송파구     장지동        32   0.075338        30    3540476\n",
       "64    송파구    풍납1동        34   0.106685         0    1185664\n",
       "\n",
       "[65 rows x 6 columns]"
      ]
     },
     "execution_count": 9,
     "metadata": {},
     "output_type": "execute_result"
    }
   ],
   "source": [
    "mt2"
   ]
  },
  {
   "cell_type": "code",
   "execution_count": 10,
   "id": "7a99834b",
   "metadata": {},
   "outputs": [
    {
     "data": {
      "text/html": [
       "<div>\n",
       "<style scoped>\n",
       "    .dataframe tbody tr th:only-of-type {\n",
       "        vertical-align: middle;\n",
       "    }\n",
       "\n",
       "    .dataframe tbody tr th {\n",
       "        vertical-align: top;\n",
       "    }\n",
       "\n",
       "    .dataframe thead th {\n",
       "        text-align: right;\n",
       "    }\n",
       "</style>\n",
       "<table border=\"1\" class=\"dataframe\">\n",
       "  <thead>\n",
       "    <tr style=\"text-align: right;\">\n",
       "      <th></th>\n",
       "      <th>sum_rank</th>\n",
       "      <th>one_ratio</th>\n",
       "      <th>cc_value</th>\n",
       "      <th>sum_trans</th>\n",
       "    </tr>\n",
       "  </thead>\n",
       "  <tbody>\n",
       "    <tr>\n",
       "      <th>count</th>\n",
       "      <td>65.000000</td>\n",
       "      <td>65.000000</td>\n",
       "      <td>65.000000</td>\n",
       "      <td>6.500000e+01</td>\n",
       "    </tr>\n",
       "    <tr>\n",
       "      <th>mean</th>\n",
       "      <td>24.723077</td>\n",
       "      <td>0.103590</td>\n",
       "      <td>21.769231</td>\n",
       "      <td>6.598060e+06</td>\n",
       "    </tr>\n",
       "    <tr>\n",
       "      <th>std</th>\n",
       "      <td>5.287094</td>\n",
       "      <td>0.064215</td>\n",
       "      <td>11.948809</td>\n",
       "      <td>6.772997e+06</td>\n",
       "    </tr>\n",
       "    <tr>\n",
       "      <th>min</th>\n",
       "      <td>15.000000</td>\n",
       "      <td>0.011957</td>\n",
       "      <td>0.000000</td>\n",
       "      <td>6.674170e+05</td>\n",
       "    </tr>\n",
       "    <tr>\n",
       "      <th>25%</th>\n",
       "      <td>21.000000</td>\n",
       "      <td>0.056450</td>\n",
       "      <td>10.000000</td>\n",
       "      <td>2.494415e+06</td>\n",
       "    </tr>\n",
       "    <tr>\n",
       "      <th>50%</th>\n",
       "      <td>24.000000</td>\n",
       "      <td>0.092495</td>\n",
       "      <td>30.000000</td>\n",
       "      <td>4.490476e+06</td>\n",
       "    </tr>\n",
       "    <tr>\n",
       "      <th>75%</th>\n",
       "      <td>29.000000</td>\n",
       "      <td>0.141341</td>\n",
       "      <td>30.000000</td>\n",
       "      <td>6.839578e+06</td>\n",
       "    </tr>\n",
       "    <tr>\n",
       "      <th>max</th>\n",
       "      <td>37.000000</td>\n",
       "      <td>0.294444</td>\n",
       "      <td>30.000000</td>\n",
       "      <td>3.468040e+07</td>\n",
       "    </tr>\n",
       "  </tbody>\n",
       "</table>\n",
       "</div>"
      ],
      "text/plain": [
       "        sum_rank  one_ratio   cc_value     sum_trans\n",
       "count  65.000000  65.000000  65.000000  6.500000e+01\n",
       "mean   24.723077   0.103590  21.769231  6.598060e+06\n",
       "std     5.287094   0.064215  11.948809  6.772997e+06\n",
       "min    15.000000   0.011957   0.000000  6.674170e+05\n",
       "25%    21.000000   0.056450  10.000000  2.494415e+06\n",
       "50%    24.000000   0.092495  30.000000  4.490476e+06\n",
       "75%    29.000000   0.141341  30.000000  6.839578e+06\n",
       "max    37.000000   0.294444  30.000000  3.468040e+07"
      ]
     },
     "execution_count": 10,
     "metadata": {},
     "output_type": "execute_result"
    }
   ],
   "source": [
    "mt2.describe()"
   ]
  },
  {
   "cell_type": "markdown",
   "id": "b56ad714",
   "metadata": {},
   "source": [
    "비교 우위 : sum_rank(환경) > one_ratio(1인가구) > cc_value(상권) > sum_trans (유동인구)"
   ]
  },
  {
   "cell_type": "code",
   "execution_count": 12,
   "id": "d458f762",
   "metadata": {},
   "outputs": [
    {
     "data": {
      "image/png": "[encoded data removed]",
      "text/plain": [
       "<Figure size 3456x3456 with 1 Axes>"
      ]
     },
     "metadata": {
      "needs_background": "light"
     },
     "output_type": "display_data"
    }
   ],
   "source": [
    "corr=mt.drop(columns=['goo_nm', 'dong_nm']).corr()\n",
    "mask=np.triu(np.ones_like(corr, dtype=bool))[1:,:-1]\n",
    "corr=corr.iloc[1:,:-1].copy()\n",
    "fig, ax = plt.subplots(figsize=(48,48))   \n",
    "sns.heatmap(corr, mask=mask, vmin=-1, vmax=1, center=0, annot=True, fmt='.2f', \n",
    "            cmap='coolwarm', annot_kws={'fontsize':60,'fontweight':'bold'}, cbar=False)\n",
    "ax.tick_params(left=False,bottom=False)\n",
    "ax.set_xticklabels(ax.get_xticklabels(), rotation=45, horizontalalignment='right',fontsize=60)\n",
    "ax.set_yticklabels(ax.get_yticklabels(), rotation=45, fontsize=60)\n",
    "plt.title('Correlations between Variables\\n', fontsize=60)\n",
    "fig.show()"
   ]
  },
  {
   "cell_type": "markdown",
   "id": "f44ee8bb",
   "metadata": {},
   "source": [
    "상관관계가 높은 것은 변수 선택에서 제외하는 것이 일반적이나 상관계수가 0.5미만이기 때문에 모두 선택하여 ahp 를 실행하는 것이 적합하다고 본다."
   ]
  },
  {
   "cell_type": "markdown",
   "id": "2b385efe",
   "metadata": {},
   "source": [
    "# 엑셀 표(수식)을 이용해서 생성 \n",
    "#### (AHP_Calculator_zero.xlsx 참고)"
   ]
  },
  {
   "cell_type": "markdown",
   "id": "0ac5e3a6",
   "metadata": {},
   "source": [
    "# 1) 기하 평균 (실패)\n",
    "https://shinho0902.tistory.com/18"
   ]
  },
  {
   "cell_type": "code",
   "execution_count": 17,
   "id": "cbaace0d",
   "metadata": {},
   "outputs": [],
   "source": [
    "import pandas as pd\n",
    "from scipy.stats.mstats import gmean\n",
    "import matplotlib.pyplot as plt"
   ]
  },
  {
   "cell_type": "code",
   "execution_count": 46,
   "id": "e1b81aeb",
   "metadata": {},
   "outputs": [],
   "source": [
    "df2 = pd.read_excel(\"ahp_comparison_matrix.xlsx\")\n",
    "df2 = df2.rename(columns={\"Unnamed: 0\":\"index\"})\n",
    "df2.set_index(\"index\",inplace=True) "
   ]
  },
  {
   "cell_type": "code",
   "execution_count": 47,
   "id": "bae37bfe",
   "metadata": {},
   "outputs": [
    {
     "data": {
      "text/html": [
       "<div>\n",
       "<style scoped>\n",
       "    .dataframe tbody tr th:only-of-type {\n",
       "        vertical-align: middle;\n",
       "    }\n",
       "\n",
       "    .dataframe tbody tr th {\n",
       "        vertical-align: top;\n",
       "    }\n",
       "\n",
       "    .dataframe thead th {\n",
       "        text-align: right;\n",
       "    }\n",
       "</style>\n",
       "<table border=\"1\" class=\"dataframe\">\n",
       "  <thead>\n",
       "    <tr style=\"text-align: right;\">\n",
       "      <th></th>\n",
       "      <th>환경</th>\n",
       "      <th>1인가구</th>\n",
       "      <th>상권</th>\n",
       "      <th>유동인구</th>\n",
       "    </tr>\n",
       "    <tr>\n",
       "      <th>index</th>\n",
       "      <th></th>\n",
       "      <th></th>\n",
       "      <th></th>\n",
       "      <th></th>\n",
       "    </tr>\n",
       "  </thead>\n",
       "  <tbody>\n",
       "    <tr>\n",
       "      <th>환경</th>\n",
       "      <td>1.000000</td>\n",
       "      <td>2.300000</td>\n",
       "      <td>1.083333</td>\n",
       "      <td>1.133333</td>\n",
       "    </tr>\n",
       "    <tr>\n",
       "      <th>1인가구</th>\n",
       "      <td>0.434783</td>\n",
       "      <td>1.000000</td>\n",
       "      <td>0.833333</td>\n",
       "      <td>0.866667</td>\n",
       "    </tr>\n",
       "    <tr>\n",
       "      <th>상권</th>\n",
       "      <td>0.923077</td>\n",
       "      <td>1.200000</td>\n",
       "      <td>1.000000</td>\n",
       "      <td>1.083333</td>\n",
       "    </tr>\n",
       "    <tr>\n",
       "      <th>유동인구</th>\n",
       "      <td>0.882353</td>\n",
       "      <td>1.153846</td>\n",
       "      <td>0.923077</td>\n",
       "      <td>1.000000</td>\n",
       "    </tr>\n",
       "  </tbody>\n",
       "</table>\n",
       "</div>"
      ],
      "text/plain": [
       "             환경      1인가구        상권      유동인구\n",
       "index                                        \n",
       "환경     1.000000  2.300000  1.083333  1.133333\n",
       "1인가구   0.434783  1.000000  0.833333  0.866667\n",
       "상권     0.923077  1.200000  1.000000  1.083333\n",
       "유동인구   0.882353  1.153846  0.923077  1.000000"
      ]
     },
     "execution_count": 47,
     "metadata": {},
     "output_type": "execute_result"
    }
   ],
   "source": [
    "ahp_df = df2.copy()\n",
    "ahp_df"
   ]
  },
  {
   "cell_type": "code",
   "execution_count": 48,
   "id": "1c47d245",
   "metadata": {},
   "outputs": [
    {
     "data": {
      "text/plain": [
       "4"
      ]
     },
     "execution_count": 48,
     "metadata": {},
     "output_type": "execute_result"
    }
   ],
   "source": [
    "# 데이터프레임의 컬럼수 파악\n",
    "colums_cnt = len(ahp_df.columns)\n",
    "colums_cnt"
   ]
  },
  {
   "cell_type": "code",
   "execution_count": 49,
   "id": "d6439eae",
   "metadata": {},
   "outputs": [
    {
     "data": {
      "text/plain": [
       "[0.7714151506529505, 1.335870290918819, 0.9554426966600732, 1.0156472554670526]"
      ]
     },
     "execution_count": 49,
     "metadata": {},
     "output_type": "execute_result"
    }
   ],
   "source": [
    "# 각 컬럼의 기하평균을 계산하여 리스트에 저장\n",
    "geo_mean_list = []\n",
    "for i in ahp_df:\n",
    "    geo_mean_list.append(gmean(ahp_df[i])) # 기하 평균\n",
    "    \n",
    "geo_mean_list"
   ]
  },
  {
   "cell_type": "code",
   "execution_count": 50,
   "id": "539468f0",
   "metadata": {},
   "outputs": [
    {
     "name": "stdout",
     "output_type": "stream",
     "text": [
      "기하평균 (Geometric mean)\n",
      "\n",
      "환경 : 0.771\n",
      "1인가구 : 1.336\n",
      "상권 : 0.955\n",
      "유동인구 : 1.016\n"
     ]
    }
   ],
   "source": [
    "# 기하평균 출력\n",
    "print('기하평균 (Geometric mean)\\n')\n",
    "for i,j in zip(ahp_df, geo_mean_list):\n",
    "    #print('{} : {}'.format(i, j))\n",
    "    print('{} : {}'.format(i, round(j,3)))  # 소수점 3 자리수"
   ]
  },
  {
   "cell_type": "code",
   "execution_count": 51,
   "id": "a00e5cd0",
   "metadata": {},
   "outputs": [
    {
     "data": {
      "text/html": [
       "<div>\n",
       "<style scoped>\n",
       "    .dataframe tbody tr th:only-of-type {\n",
       "        vertical-align: middle;\n",
       "    }\n",
       "\n",
       "    .dataframe tbody tr th {\n",
       "        vertical-align: top;\n",
       "    }\n",
       "\n",
       "    .dataframe thead th {\n",
       "        text-align: right;\n",
       "    }\n",
       "</style>\n",
       "<table border=\"1\" class=\"dataframe\">\n",
       "  <thead>\n",
       "    <tr style=\"text-align: right;\">\n",
       "      <th></th>\n",
       "      <th>환경</th>\n",
       "      <th>1인가구</th>\n",
       "      <th>상권</th>\n",
       "      <th>유동인구</th>\n",
       "    </tr>\n",
       "  </thead>\n",
       "  <tbody>\n",
       "    <tr>\n",
       "      <th>0</th>\n",
       "      <td>1.000000</td>\n",
       "      <td>2.300000</td>\n",
       "      <td>1.083333</td>\n",
       "      <td>1.133333</td>\n",
       "    </tr>\n",
       "    <tr>\n",
       "      <th>1</th>\n",
       "      <td>0.434783</td>\n",
       "      <td>1.000000</td>\n",
       "      <td>0.833333</td>\n",
       "      <td>0.866667</td>\n",
       "    </tr>\n",
       "    <tr>\n",
       "      <th>2</th>\n",
       "      <td>0.923077</td>\n",
       "      <td>1.200000</td>\n",
       "      <td>1.000000</td>\n",
       "      <td>1.083333</td>\n",
       "    </tr>\n",
       "    <tr>\n",
       "      <th>3</th>\n",
       "      <td>0.882353</td>\n",
       "      <td>1.153846</td>\n",
       "      <td>0.923077</td>\n",
       "      <td>1.000000</td>\n",
       "    </tr>\n",
       "    <tr>\n",
       "      <th>4</th>\n",
       "      <td>0.771415</td>\n",
       "      <td>1.335870</td>\n",
       "      <td>0.955443</td>\n",
       "      <td>1.015647</td>\n",
       "    </tr>\n",
       "  </tbody>\n",
       "</table>\n",
       "</div>"
      ],
      "text/plain": [
       "         환경      1인가구        상권      유동인구\n",
       "0  1.000000  2.300000  1.083333  1.133333\n",
       "1  0.434783  1.000000  0.833333  0.866667\n",
       "2  0.923077  1.200000  1.000000  1.083333\n",
       "3  0.882353  1.153846  0.923077  1.000000\n",
       "4  0.771415  1.335870  0.955443  1.015647"
      ]
     },
     "execution_count": 51,
     "metadata": {},
     "output_type": "execute_result"
    }
   ],
   "source": [
    "# 데이터프레임에 기하평균값 추가\n",
    "ahp_df = ahp_df.append(pd.Series(geo_mean_list, index=ahp_df.columns),ignore_index=True)\n",
    "ahp_df"
   ]
  },
  {
   "cell_type": "code",
   "execution_count": 52,
   "id": "e72efbaf",
   "metadata": {},
   "outputs": [
    {
     "data": {
      "text/plain": [
       "4.078375393698895"
      ]
     },
     "execution_count": 52,
     "metadata": {},
     "output_type": "execute_result"
    }
   ],
   "source": [
    "# 가중치 계산을 위하여 기하평균의 합을 구함 -> 4번째 행 합계\n",
    "geo_mean_sum = sum(geo_mean_list)\n",
    "geo_mean_sum"
   ]
  },
  {
   "cell_type": "code",
   "execution_count": 53,
   "id": "c7d0ac3c",
   "metadata": {},
   "outputs": [],
   "source": [
    "# 각 컬럼의 가중치를 계산하여 리스트에 저장\n",
    "weights_list = []\n",
    "for i in range(colums_cnt):\n",
    "    weights_list.append(geo_mean_list[i]/geo_mean_sum)"
   ]
  },
  {
   "cell_type": "code",
   "execution_count": 54,
   "id": "0b547fb8",
   "metadata": {},
   "outputs": [
    {
     "name": "stdout",
     "output_type": "stream",
     "text": [
      "가중치 (Weights)\n",
      "\n",
      "환경 : 0.18914765713935744\n",
      "1인가구 : 0.3275496152175554\n",
      "상권 : 0.2342704151599766\n",
      "유동인구 : 0.24903231248311064\n"
     ]
    }
   ],
   "source": [
    "# 기하평균 출력\n",
    "print('가중치 (Weights)\\n')\n",
    "for i,j in zip(ahp_df, weights_list): # weights_list : 가중치 리스트\n",
    "    print('{} : {}'.format(i, j))\n",
    "    #print('{} : {}'.format(i, round(j,3)))  # 소수점 3 자리수"
   ]
  },
  {
   "cell_type": "code",
   "execution_count": 55,
   "id": "6f7e896c",
   "metadata": {},
   "outputs": [
    {
     "name": "stdout",
     "output_type": "stream",
     "text": [
      "1.0\n"
     ]
    }
   ],
   "source": [
    "# 가중치 합 확인\n",
    "su_ = sum(list(weights_list))\n",
    "print(su_)"
   ]
  },
  {
   "cell_type": "code",
   "execution_count": 56,
   "id": "4fb7612a",
   "metadata": {},
   "outputs": [
    {
     "data": {
      "text/html": [
       "<div>\n",
       "<style scoped>\n",
       "    .dataframe tbody tr th:only-of-type {\n",
       "        vertical-align: middle;\n",
       "    }\n",
       "\n",
       "    .dataframe tbody tr th {\n",
       "        vertical-align: top;\n",
       "    }\n",
       "\n",
       "    .dataframe thead th {\n",
       "        text-align: right;\n",
       "    }\n",
       "</style>\n",
       "<table border=\"1\" class=\"dataframe\">\n",
       "  <thead>\n",
       "    <tr style=\"text-align: right;\">\n",
       "      <th></th>\n",
       "      <th>환경</th>\n",
       "      <th>1인가구</th>\n",
       "      <th>상권</th>\n",
       "      <th>유동인구</th>\n",
       "    </tr>\n",
       "  </thead>\n",
       "  <tbody>\n",
       "    <tr>\n",
       "      <th>0</th>\n",
       "      <td>1.000000</td>\n",
       "      <td>2.300000</td>\n",
       "      <td>1.083333</td>\n",
       "      <td>1.133333</td>\n",
       "    </tr>\n",
       "    <tr>\n",
       "      <th>1</th>\n",
       "      <td>0.434783</td>\n",
       "      <td>1.000000</td>\n",
       "      <td>0.833333</td>\n",
       "      <td>0.866667</td>\n",
       "    </tr>\n",
       "    <tr>\n",
       "      <th>2</th>\n",
       "      <td>0.923077</td>\n",
       "      <td>1.200000</td>\n",
       "      <td>1.000000</td>\n",
       "      <td>1.083333</td>\n",
       "    </tr>\n",
       "    <tr>\n",
       "      <th>3</th>\n",
       "      <td>0.882353</td>\n",
       "      <td>1.153846</td>\n",
       "      <td>0.923077</td>\n",
       "      <td>1.000000</td>\n",
       "    </tr>\n",
       "    <tr>\n",
       "      <th>4</th>\n",
       "      <td>0.771415</td>\n",
       "      <td>1.335870</td>\n",
       "      <td>0.955443</td>\n",
       "      <td>1.015647</td>\n",
       "    </tr>\n",
       "    <tr>\n",
       "      <th>5</th>\n",
       "      <td>0.189148</td>\n",
       "      <td>0.327550</td>\n",
       "      <td>0.234270</td>\n",
       "      <td>0.249032</td>\n",
       "    </tr>\n",
       "  </tbody>\n",
       "</table>\n",
       "</div>"
      ],
      "text/plain": [
       "         환경      1인가구        상권      유동인구\n",
       "0  1.000000  2.300000  1.083333  1.133333\n",
       "1  0.434783  1.000000  0.833333  0.866667\n",
       "2  0.923077  1.200000  1.000000  1.083333\n",
       "3  0.882353  1.153846  0.923077  1.000000\n",
       "4  0.771415  1.335870  0.955443  1.015647\n",
       "5  0.189148  0.327550  0.234270  0.249032"
      ]
     },
     "execution_count": 56,
     "metadata": {},
     "output_type": "execute_result"
    }
   ],
   "source": [
    "# 데이터프레임에 가중치 값 추가\n",
    "ahp_df2 = ahp_df.append(pd.Series(weights_list, index=ahp_df.columns),ignore_index=True)\n",
    "ahp_df2"
   ]
  },
  {
   "cell_type": "code",
   "execution_count": 57,
   "id": "7f9321a3",
   "metadata": {},
   "outputs": [
    {
     "data": {
      "text/html": [
       "<div>\n",
       "<style scoped>\n",
       "    .dataframe tbody tr th:only-of-type {\n",
       "        vertical-align: middle;\n",
       "    }\n",
       "\n",
       "    .dataframe tbody tr th {\n",
       "        vertical-align: top;\n",
       "    }\n",
       "\n",
       "    .dataframe thead th {\n",
       "        text-align: right;\n",
       "    }\n",
       "</style>\n",
       "<table border=\"1\" class=\"dataframe\">\n",
       "  <thead>\n",
       "    <tr style=\"text-align: right;\">\n",
       "      <th></th>\n",
       "      <th>환경</th>\n",
       "      <th>1인가구</th>\n",
       "      <th>상권</th>\n",
       "      <th>유동인구</th>\n",
       "    </tr>\n",
       "  </thead>\n",
       "  <tbody>\n",
       "    <tr>\n",
       "      <th>환경</th>\n",
       "      <td>1.000000</td>\n",
       "      <td>2.300000</td>\n",
       "      <td>1.083333</td>\n",
       "      <td>1.133333</td>\n",
       "    </tr>\n",
       "    <tr>\n",
       "      <th>1인가구</th>\n",
       "      <td>0.434783</td>\n",
       "      <td>1.000000</td>\n",
       "      <td>0.833333</td>\n",
       "      <td>0.866667</td>\n",
       "    </tr>\n",
       "    <tr>\n",
       "      <th>상권</th>\n",
       "      <td>0.923077</td>\n",
       "      <td>1.200000</td>\n",
       "      <td>1.000000</td>\n",
       "      <td>1.083333</td>\n",
       "    </tr>\n",
       "    <tr>\n",
       "      <th>유동인구</th>\n",
       "      <td>0.882353</td>\n",
       "      <td>1.153846</td>\n",
       "      <td>0.923077</td>\n",
       "      <td>1.000000</td>\n",
       "    </tr>\n",
       "    <tr>\n",
       "      <th>기하평균</th>\n",
       "      <td>0.771415</td>\n",
       "      <td>1.335870</td>\n",
       "      <td>0.955443</td>\n",
       "      <td>1.015647</td>\n",
       "    </tr>\n",
       "    <tr>\n",
       "      <th>가중치</th>\n",
       "      <td>0.189148</td>\n",
       "      <td>0.327550</td>\n",
       "      <td>0.234270</td>\n",
       "      <td>0.249032</td>\n",
       "    </tr>\n",
       "  </tbody>\n",
       "</table>\n",
       "</div>"
      ],
      "text/plain": [
       "            환경      1인가구        상권      유동인구\n",
       "환경    1.000000  2.300000  1.083333  1.133333\n",
       "1인가구  0.434783  1.000000  0.833333  0.866667\n",
       "상권    0.923077  1.200000  1.000000  1.083333\n",
       "유동인구  0.882353  1.153846  0.923077  1.000000\n",
       "기하평균  0.771415  1.335870  0.955443  1.015647\n",
       "가중치   0.189148  0.327550  0.234270  0.249032"
      ]
     },
     "execution_count": 57,
     "metadata": {},
     "output_type": "execute_result"
    }
   ],
   "source": [
    "# 인덱스명 변경\n",
    "ahp_df_result = ahp_df2.rename({0:'환경', 1:'1인가구', 2:'상권', 3:'유동인구', 4:'기하평균', 5:'가중치'}, axis=0)\n",
    "ahp_df_result"
   ]
  },
  {
   "cell_type": "code",
   "execution_count": 60,
   "id": "6dc7eaf8",
   "metadata": {},
   "outputs": [
    {
     "data": {
      "text/html": [
       "<div>\n",
       "<style scoped>\n",
       "    .dataframe tbody tr th:only-of-type {\n",
       "        vertical-align: middle;\n",
       "    }\n",
       "\n",
       "    .dataframe tbody tr th {\n",
       "        vertical-align: top;\n",
       "    }\n",
       "\n",
       "    .dataframe thead th {\n",
       "        text-align: right;\n",
       "    }\n",
       "</style>\n",
       "<table border=\"1\" class=\"dataframe\">\n",
       "  <thead>\n",
       "    <tr style=\"text-align: right;\">\n",
       "      <th></th>\n",
       "      <th>가중치</th>\n",
       "    </tr>\n",
       "  </thead>\n",
       "  <tbody>\n",
       "    <tr>\n",
       "      <th>환경</th>\n",
       "      <td>0.189148</td>\n",
       "    </tr>\n",
       "    <tr>\n",
       "      <th>1인가구</th>\n",
       "      <td>0.327550</td>\n",
       "    </tr>\n",
       "    <tr>\n",
       "      <th>상권</th>\n",
       "      <td>0.234270</td>\n",
       "    </tr>\n",
       "    <tr>\n",
       "      <th>유동인구</th>\n",
       "      <td>0.249032</td>\n",
       "    </tr>\n",
       "  </tbody>\n",
       "</table>\n",
       "</div>"
      ],
      "text/plain": [
       "           가중치\n",
       "환경    0.189148\n",
       "1인가구  0.327550\n",
       "상권    0.234270\n",
       "유동인구  0.249032"
      ]
     },
     "execution_count": 60,
     "metadata": {},
     "output_type": "execute_result"
    }
   ],
   "source": [
    "# 가중치 결과만 가지고 있는 데이터프레임 생성\n",
    "ahp_df_result_weights = ahp_df_result.loc[['가중치'],['환경', '1인가구', '상권', '유동인구']]\n",
    "ahp_df_result_weights.T"
   ]
  },
  {
   "cell_type": "code",
   "execution_count": 61,
   "id": "3841f47c",
   "metadata": {},
   "outputs": [],
   "source": [
    "x = list(ahp_df_result_weights.columns)\n",
    "y = weights_list"
   ]
  },
  {
   "cell_type": "code",
   "execution_count": 62,
   "id": "91cca0fc",
   "metadata": {},
   "outputs": [],
   "source": [
    "# 그래프 한글 출력을 위함\n",
    "plt.rcParams['font.family'] = 'Malgun Gothic' "
   ]
  },
  {
   "cell_type": "code",
   "execution_count": 66,
   "id": "0f44c2e0",
   "metadata": {},
   "outputs": [
    {
     "data": {
      "image/png": "[encoded data removed]",
      "text/plain": [
       "<Figure size 432x288 with 1 Axes>"
      ]
     },
     "metadata": {
      "needs_background": "light"
     },
     "output_type": "display_data"
    }
   ],
   "source": [
    "plt.bar(x, y, color=['black','cornflowerblue','black','black'])\n",
    "plt.xlabel('최종 요인')\n",
    "plt.ylabel('가중치')\n",
    "\n",
    "\n",
    "for i, v in enumerate(x):\n",
    "    plt.text(v, y[i],round(y[i],3),                 # 좌표 (x축 = v, y축 = y[0]..y[1], 표시 = y[0]..y[1])\n",
    "             fontsize = 9, \n",
    "             color='black',\n",
    "             horizontalalignment='center',  # horizontalalignment (left, center, right)\n",
    "             verticalalignment='bottom', # verticalalignment (top, center, bottom)\n",
    "            )    \n",
    "    \n",
    "# plt.savefig('AHP_막대그래프',dpi=300) # 막대그래프 결과를 저장\n",
    "plt.show()"
   ]
  },
  {
   "cell_type": "markdown",
   "id": "55ff2f1a",
   "metadata": {},
   "source": [
    "# 2) 표준정규화 (실패)"
   ]
  },
  {
   "cell_type": "code",
   "execution_count": 135,
   "id": "94342075",
   "metadata": {},
   "outputs": [
    {
     "data": {
      "text/html": [
       "<div>\n",
       "<style scoped>\n",
       "    .dataframe tbody tr th:only-of-type {\n",
       "        vertical-align: middle;\n",
       "    }\n",
       "\n",
       "    .dataframe tbody tr th {\n",
       "        vertical-align: top;\n",
       "    }\n",
       "\n",
       "    .dataframe thead th {\n",
       "        text-align: right;\n",
       "    }\n",
       "</style>\n",
       "<table border=\"1\" class=\"dataframe\">\n",
       "  <thead>\n",
       "    <tr style=\"text-align: right;\">\n",
       "      <th></th>\n",
       "      <th>환경</th>\n",
       "      <th>1인가구</th>\n",
       "      <th>상권</th>\n",
       "      <th>유동인구</th>\n",
       "    </tr>\n",
       "    <tr>\n",
       "      <th>index</th>\n",
       "      <th></th>\n",
       "      <th></th>\n",
       "      <th></th>\n",
       "      <th></th>\n",
       "    </tr>\n",
       "  </thead>\n",
       "  <tbody>\n",
       "    <tr>\n",
       "      <th>환경</th>\n",
       "      <td>1.000000</td>\n",
       "      <td>2.300000</td>\n",
       "      <td>1.083333</td>\n",
       "      <td>1.133333</td>\n",
       "    </tr>\n",
       "    <tr>\n",
       "      <th>1인가구</th>\n",
       "      <td>0.434783</td>\n",
       "      <td>1.000000</td>\n",
       "      <td>0.833333</td>\n",
       "      <td>0.866667</td>\n",
       "    </tr>\n",
       "    <tr>\n",
       "      <th>상권</th>\n",
       "      <td>0.923077</td>\n",
       "      <td>1.200000</td>\n",
       "      <td>1.000000</td>\n",
       "      <td>1.083333</td>\n",
       "    </tr>\n",
       "    <tr>\n",
       "      <th>유동인구</th>\n",
       "      <td>0.882353</td>\n",
       "      <td>1.153846</td>\n",
       "      <td>0.923077</td>\n",
       "      <td>1.000000</td>\n",
       "    </tr>\n",
       "  </tbody>\n",
       "</table>\n",
       "</div>"
      ],
      "text/plain": [
       "             환경      1인가구        상권      유동인구\n",
       "index                                        \n",
       "환경     1.000000  2.300000  1.083333  1.133333\n",
       "1인가구   0.434783  1.000000  0.833333  0.866667\n",
       "상권     0.923077  1.200000  1.000000  1.083333\n",
       "유동인구   0.882353  1.153846  0.923077  1.000000"
      ]
     },
     "execution_count": 135,
     "metadata": {},
     "output_type": "execute_result"
    }
   ],
   "source": [
    "ahp_df = df2.copy()\n",
    "ahp_df"
   ]
  },
  {
   "cell_type": "code",
   "execution_count": 103,
   "id": "c1fb6791",
   "metadata": {},
   "outputs": [
    {
     "data": {
      "text/plain": [
       "4"
      ]
     },
     "execution_count": 103,
     "metadata": {},
     "output_type": "execute_result"
    }
   ],
   "source": [
    "len(ahp_df.index)"
   ]
  },
  {
   "cell_type": "code",
   "execution_count": 123,
   "id": "1aca0551",
   "metadata": {},
   "outputs": [
    {
     "name": "stdout",
     "output_type": "stream",
     "text": [
      "[0.8100532541221123, 1.4134616606805213, 0.9599358017751698, 1.020833165]\n",
      "[0.22074279139380615, 0.5171717931146719, 0.09249166709471439, 0.1009502034147117]\n"
     ]
    }
   ],
   "source": [
    "# 각 컬럼의 기하평균/ 을 계산하여 리스트에 저장\n",
    "geo_mean_list = []\n",
    "geo_std_list = []\n",
    "\n",
    "for i in range(len(ahp_df.index)):\n",
    "    geo_mean_list.append(ahp_df.T.iloc[i].sum()/len(ahp_df.T.iloc[i])) # 평균\n",
    "    geo_std_list.append(((ahp_df.T.iloc[i]-geo_mean_list[i])**2/len(ahp_df.T.iloc[i])).sum()) # 분산\n",
    "    geo_std_list[i] = geo_std_list[i]**(1/2) # 표준편차\n",
    "    \n",
    "print(geo_mean_list)\n",
    "print(geo_std_list)"
   ]
  },
  {
   "cell_type": "code",
   "execution_count": 126,
   "id": "08ad9b4b",
   "metadata": {},
   "outputs": [],
   "source": [
    "for i in range(len(ahp_df.index)):\n",
    "    ahp_df.T.iloc[i]  =  (ahp_df.T.iloc[i]-geo_mean_list[i]) / geo_std_list[i]"
   ]
  },
  {
   "cell_type": "code",
   "execution_count": 127,
   "id": "ec358649",
   "metadata": {},
   "outputs": [
    {
     "data": {
      "text/html": [
       "<div>\n",
       "<style scoped>\n",
       "    .dataframe tbody tr th:only-of-type {\n",
       "        vertical-align: middle;\n",
       "    }\n",
       "\n",
       "    .dataframe tbody tr th {\n",
       "        vertical-align: top;\n",
       "    }\n",
       "\n",
       "    .dataframe thead th {\n",
       "        text-align: right;\n",
       "    }\n",
       "</style>\n",
       "<table border=\"1\" class=\"dataframe\">\n",
       "  <thead>\n",
       "    <tr style=\"text-align: right;\">\n",
       "      <th></th>\n",
       "      <th>환경</th>\n",
       "      <th>1인가구</th>\n",
       "      <th>상권</th>\n",
       "      <th>유동인구</th>\n",
       "    </tr>\n",
       "    <tr>\n",
       "      <th>index</th>\n",
       "      <th></th>\n",
       "      <th></th>\n",
       "      <th></th>\n",
       "      <th></th>\n",
       "    </tr>\n",
       "  </thead>\n",
       "  <tbody>\n",
       "    <tr>\n",
       "      <th>환경</th>\n",
       "      <td>0.860489</td>\n",
       "      <td>1.714205</td>\n",
       "      <td>1.334144</td>\n",
       "      <td>1.114409</td>\n",
       "    </tr>\n",
       "    <tr>\n",
       "      <th>1인가구</th>\n",
       "      <td>-1.700036</td>\n",
       "      <td>-0.799467</td>\n",
       "      <td>-1.368802</td>\n",
       "      <td>-1.527154</td>\n",
       "    </tr>\n",
       "    <tr>\n",
       "      <th>상권</th>\n",
       "      <td>0.512017</td>\n",
       "      <td>-0.412747</td>\n",
       "      <td>0.433165</td>\n",
       "      <td>0.619115</td>\n",
       "    </tr>\n",
       "    <tr>\n",
       "      <th>유동인구</th>\n",
       "      <td>0.327530</td>\n",
       "      <td>-0.501991</td>\n",
       "      <td>-0.398507</td>\n",
       "      <td>-0.206371</td>\n",
       "    </tr>\n",
       "  </tbody>\n",
       "</table>\n",
       "</div>"
      ],
      "text/plain": [
       "             환경      1인가구        상권      유동인구\n",
       "index                                        \n",
       "환경     0.860489  1.714205  1.334144  1.114409\n",
       "1인가구  -1.700036 -0.799467 -1.368802 -1.527154\n",
       "상권     0.512017 -0.412747  0.433165  0.619115\n",
       "유동인구   0.327530 -0.501991 -0.398507 -0.206371"
      ]
     },
     "execution_count": 127,
     "metadata": {},
     "output_type": "execute_result"
    }
   ],
   "source": [
    "ahp_df"
   ]
  },
  {
   "cell_type": "code",
   "execution_count": 134,
   "id": "9e8c09f0",
   "metadata": {},
   "outputs": [
    {
     "data": {
      "text/plain": [
       "-0.0"
      ]
     },
     "execution_count": 134,
     "metadata": {},
     "output_type": "execute_result"
    }
   ],
   "source": [
    "round(ahp_df.T.loc[\"환경\"].sum(),6)"
   ]
  },
  {
   "cell_type": "markdown",
   "id": "c488f422",
   "metadata": {},
   "source": [
    "# 3) 합계 norm 확인 (성공)"
   ]
  },
  {
   "cell_type": "code",
   "execution_count": 137,
   "id": "501bfc25",
   "metadata": {},
   "outputs": [
    {
     "data": {
      "text/html": [
       "<div>\n",
       "<style scoped>\n",
       "    .dataframe tbody tr th:only-of-type {\n",
       "        vertical-align: middle;\n",
       "    }\n",
       "\n",
       "    .dataframe tbody tr th {\n",
       "        vertical-align: top;\n",
       "    }\n",
       "\n",
       "    .dataframe thead th {\n",
       "        text-align: right;\n",
       "    }\n",
       "</style>\n",
       "<table border=\"1\" class=\"dataframe\">\n",
       "  <thead>\n",
       "    <tr style=\"text-align: right;\">\n",
       "      <th></th>\n",
       "      <th>환경</th>\n",
       "      <th>1인가구</th>\n",
       "      <th>상권</th>\n",
       "      <th>유동인구</th>\n",
       "    </tr>\n",
       "    <tr>\n",
       "      <th>index</th>\n",
       "      <th></th>\n",
       "      <th></th>\n",
       "      <th></th>\n",
       "      <th></th>\n",
       "    </tr>\n",
       "  </thead>\n",
       "  <tbody>\n",
       "    <tr>\n",
       "      <th>환경</th>\n",
       "      <td>1.000000</td>\n",
       "      <td>2.300000</td>\n",
       "      <td>1.083333</td>\n",
       "      <td>1.133333</td>\n",
       "    </tr>\n",
       "    <tr>\n",
       "      <th>1인가구</th>\n",
       "      <td>0.434783</td>\n",
       "      <td>1.000000</td>\n",
       "      <td>0.833333</td>\n",
       "      <td>0.866667</td>\n",
       "    </tr>\n",
       "    <tr>\n",
       "      <th>상권</th>\n",
       "      <td>0.923077</td>\n",
       "      <td>1.200000</td>\n",
       "      <td>1.000000</td>\n",
       "      <td>1.083333</td>\n",
       "    </tr>\n",
       "    <tr>\n",
       "      <th>유동인구</th>\n",
       "      <td>0.882353</td>\n",
       "      <td>1.153846</td>\n",
       "      <td>0.923077</td>\n",
       "      <td>1.000000</td>\n",
       "    </tr>\n",
       "  </tbody>\n",
       "</table>\n",
       "</div>"
      ],
      "text/plain": [
       "             환경      1인가구        상권      유동인구\n",
       "index                                        \n",
       "환경     1.000000  2.300000  1.083333  1.133333\n",
       "1인가구   0.434783  1.000000  0.833333  0.866667\n",
       "상권     0.923077  1.200000  1.000000  1.083333\n",
       "유동인구   0.882353  1.153846  0.923077  1.000000"
      ]
     },
     "execution_count": 137,
     "metadata": {},
     "output_type": "execute_result"
    }
   ],
   "source": [
    "ahp_df = df2.copy()\n",
    "ahp_df"
   ]
  },
  {
   "cell_type": "code",
   "execution_count": 138,
   "id": "fafe3cb8",
   "metadata": {},
   "outputs": [
    {
     "data": {
      "text/plain": [
       "[3.240213016488449, 5.653846642722085, 3.839743207100679, 4.08333266]"
      ]
     },
     "execution_count": 138,
     "metadata": {},
     "output_type": "execute_result"
    }
   ],
   "source": [
    "# 각 컬럼의 합계\n",
    "geo_sum_list = []\n",
    "\n",
    "for i in range(len(ahp_df.index)):\n",
    "    geo_sum_list.append(ahp_df.T.iloc[i].sum()) # 평균\n",
    "    \n",
    "geo_sum_list"
   ]
  },
  {
   "cell_type": "code",
   "execution_count": 139,
   "id": "a81dc171",
   "metadata": {},
   "outputs": [
    {
     "data": {
      "text/html": [
       "<div>\n",
       "<style scoped>\n",
       "    .dataframe tbody tr th:only-of-type {\n",
       "        vertical-align: middle;\n",
       "    }\n",
       "\n",
       "    .dataframe tbody tr th {\n",
       "        vertical-align: top;\n",
       "    }\n",
       "\n",
       "    .dataframe thead th {\n",
       "        text-align: right;\n",
       "    }\n",
       "</style>\n",
       "<table border=\"1\" class=\"dataframe\">\n",
       "  <thead>\n",
       "    <tr style=\"text-align: right;\">\n",
       "      <th></th>\n",
       "      <th>환경</th>\n",
       "      <th>1인가구</th>\n",
       "      <th>상권</th>\n",
       "      <th>유동인구</th>\n",
       "    </tr>\n",
       "  </thead>\n",
       "  <tbody>\n",
       "    <tr>\n",
       "      <th>0</th>\n",
       "      <td>1.000000</td>\n",
       "      <td>2.300000</td>\n",
       "      <td>1.083333</td>\n",
       "      <td>1.133333</td>\n",
       "    </tr>\n",
       "    <tr>\n",
       "      <th>1</th>\n",
       "      <td>0.434783</td>\n",
       "      <td>1.000000</td>\n",
       "      <td>0.833333</td>\n",
       "      <td>0.866667</td>\n",
       "    </tr>\n",
       "    <tr>\n",
       "      <th>2</th>\n",
       "      <td>0.923077</td>\n",
       "      <td>1.200000</td>\n",
       "      <td>1.000000</td>\n",
       "      <td>1.083333</td>\n",
       "    </tr>\n",
       "    <tr>\n",
       "      <th>3</th>\n",
       "      <td>0.882353</td>\n",
       "      <td>1.153846</td>\n",
       "      <td>0.923077</td>\n",
       "      <td>1.000000</td>\n",
       "    </tr>\n",
       "    <tr>\n",
       "      <th>4</th>\n",
       "      <td>3.240213</td>\n",
       "      <td>5.653847</td>\n",
       "      <td>3.839743</td>\n",
       "      <td>4.083333</td>\n",
       "    </tr>\n",
       "  </tbody>\n",
       "</table>\n",
       "</div>"
      ],
      "text/plain": [
       "         환경      1인가구        상권      유동인구\n",
       "0  1.000000  2.300000  1.083333  1.133333\n",
       "1  0.434783  1.000000  0.833333  0.866667\n",
       "2  0.923077  1.200000  1.000000  1.083333\n",
       "3  0.882353  1.153846  0.923077  1.000000\n",
       "4  3.240213  5.653847  3.839743  4.083333"
      ]
     },
     "execution_count": 139,
     "metadata": {},
     "output_type": "execute_result"
    }
   ],
   "source": [
    "# 데이터프레임에 합계값 추가\n",
    "ahp_df = ahp_df.append(pd.Series(geo_sum_list, index=ahp_df.columns),ignore_index=True)\n",
    "ahp_df"
   ]
  },
  {
   "cell_type": "code",
   "execution_count": 205,
   "id": "d300c3ae",
   "metadata": {},
   "outputs": [
    {
     "data": {
      "text/html": [
       "<div>\n",
       "<style scoped>\n",
       "    .dataframe tbody tr th:only-of-type {\n",
       "        vertical-align: middle;\n",
       "    }\n",
       "\n",
       "    .dataframe tbody tr th {\n",
       "        vertical-align: top;\n",
       "    }\n",
       "\n",
       "    .dataframe thead th {\n",
       "        text-align: right;\n",
       "    }\n",
       "</style>\n",
       "<table border=\"1\" class=\"dataframe\">\n",
       "  <thead>\n",
       "    <tr style=\"text-align: right;\">\n",
       "      <th></th>\n",
       "      <th>환경</th>\n",
       "      <th>1인가구</th>\n",
       "      <th>상권</th>\n",
       "      <th>유동인구</th>\n",
       "    </tr>\n",
       "  </thead>\n",
       "  <tbody>\n",
       "    <tr>\n",
       "      <th>0</th>\n",
       "      <td>0.308622</td>\n",
       "      <td>0.406803</td>\n",
       "      <td>0.282137</td>\n",
       "      <td>0.277551</td>\n",
       "    </tr>\n",
       "    <tr>\n",
       "      <th>1</th>\n",
       "      <td>0.134183</td>\n",
       "      <td>0.176871</td>\n",
       "      <td>0.217028</td>\n",
       "      <td>0.212245</td>\n",
       "    </tr>\n",
       "    <tr>\n",
       "      <th>2</th>\n",
       "      <td>0.284882</td>\n",
       "      <td>0.212245</td>\n",
       "      <td>0.260434</td>\n",
       "      <td>0.265306</td>\n",
       "    </tr>\n",
       "    <tr>\n",
       "      <th>3</th>\n",
       "      <td>0.272313</td>\n",
       "      <td>0.204082</td>\n",
       "      <td>0.240401</td>\n",
       "      <td>0.244898</td>\n",
       "    </tr>\n",
       "    <tr>\n",
       "      <th>4</th>\n",
       "      <td>1.000000</td>\n",
       "      <td>1.000000</td>\n",
       "      <td>1.000000</td>\n",
       "      <td>1.000000</td>\n",
       "    </tr>\n",
       "  </tbody>\n",
       "</table>\n",
       "</div>"
      ],
      "text/plain": [
       "         환경      1인가구        상권      유동인구\n",
       "0  0.308622  0.406803  0.282137  0.277551\n",
       "1  0.134183  0.176871  0.217028  0.212245\n",
       "2  0.284882  0.212245  0.260434  0.265306\n",
       "3  0.272313  0.204082  0.240401  0.244898\n",
       "4  1.000000  1.000000  1.000000  1.000000"
      ]
     },
     "execution_count": 205,
     "metadata": {},
     "output_type": "execute_result"
    }
   ],
   "source": [
    "# norm 완료\n",
    "ahp_norm = ahp_df.iloc[:4,:] / ahp_df.iloc[4]\n",
    "\n",
    "norm_sum_list = []\n",
    "\n",
    "for i in range(4):\n",
    "    norm_sum_list.append(ahp_norm.T.iloc[i].sum())\n",
    "    \n",
    "# 데이터프레임에 가중치 값 추가\n",
    "ahp_norm = ahp_norm.append(pd.Series(norm_sum_list, index = ahp_norm.columns),ignore_index=True)\n",
    "ahp_norm"
   ]
  },
  {
   "cell_type": "code",
   "execution_count": 218,
   "id": "0866c04d",
   "metadata": {},
   "outputs": [],
   "source": [
    "# 모든 비교 행렬에 대해 norm 후 가중치 계산\n",
    "norm_weight_list = []\n",
    "\n",
    "for i in range(4):\n",
    "    norm_weight_list.append(ahp_norm.iloc[i].sum()/4)\n",
    "\n",
    "norm_weight_list.append(sum(norm_weight_list))"
   ]
  },
  {
   "cell_type": "code",
   "execution_count": 219,
   "id": "210e8b38",
   "metadata": {},
   "outputs": [
    {
     "data": {
      "text/plain": [
       "[0.3187780478263212,\n",
       " 0.18508183024103794,\n",
       " 0.25571669364147176,\n",
       " 0.24042342829116914,\n",
       " 1.0]"
      ]
     },
     "execution_count": 219,
     "metadata": {},
     "output_type": "execute_result"
    }
   ],
   "source": [
    "norm_weight_list"
   ]
  },
  {
   "cell_type": "code",
   "execution_count": 220,
   "id": "d6bd9708",
   "metadata": {},
   "outputs": [],
   "source": [
    "ahp_norm[\"가중치\"] = norm_weight_list"
   ]
  },
  {
   "cell_type": "code",
   "execution_count": 221,
   "id": "e4bf0f08",
   "metadata": {},
   "outputs": [
    {
     "data": {
      "text/html": [
       "<div>\n",
       "<style scoped>\n",
       "    .dataframe tbody tr th:only-of-type {\n",
       "        vertical-align: middle;\n",
       "    }\n",
       "\n",
       "    .dataframe tbody tr th {\n",
       "        vertical-align: top;\n",
       "    }\n",
       "\n",
       "    .dataframe thead th {\n",
       "        text-align: right;\n",
       "    }\n",
       "</style>\n",
       "<table border=\"1\" class=\"dataframe\">\n",
       "  <thead>\n",
       "    <tr style=\"text-align: right;\">\n",
       "      <th></th>\n",
       "      <th>환경</th>\n",
       "      <th>1인가구</th>\n",
       "      <th>상권</th>\n",
       "      <th>유동인구</th>\n",
       "      <th>가중치</th>\n",
       "    </tr>\n",
       "  </thead>\n",
       "  <tbody>\n",
       "    <tr>\n",
       "      <th>0</th>\n",
       "      <td>0.308622</td>\n",
       "      <td>0.406803</td>\n",
       "      <td>0.282137</td>\n",
       "      <td>0.277551</td>\n",
       "      <td>0.318778</td>\n",
       "    </tr>\n",
       "    <tr>\n",
       "      <th>1</th>\n",
       "      <td>0.134183</td>\n",
       "      <td>0.176871</td>\n",
       "      <td>0.217028</td>\n",
       "      <td>0.212245</td>\n",
       "      <td>0.185082</td>\n",
       "    </tr>\n",
       "    <tr>\n",
       "      <th>2</th>\n",
       "      <td>0.284882</td>\n",
       "      <td>0.212245</td>\n",
       "      <td>0.260434</td>\n",
       "      <td>0.265306</td>\n",
       "      <td>0.255717</td>\n",
       "    </tr>\n",
       "    <tr>\n",
       "      <th>3</th>\n",
       "      <td>0.272313</td>\n",
       "      <td>0.204082</td>\n",
       "      <td>0.240401</td>\n",
       "      <td>0.244898</td>\n",
       "      <td>0.240423</td>\n",
       "    </tr>\n",
       "    <tr>\n",
       "      <th>4</th>\n",
       "      <td>1.000000</td>\n",
       "      <td>1.000000</td>\n",
       "      <td>1.000000</td>\n",
       "      <td>1.000000</td>\n",
       "      <td>1.000000</td>\n",
       "    </tr>\n",
       "  </tbody>\n",
       "</table>\n",
       "</div>"
      ],
      "text/plain": [
       "         환경      1인가구        상권      유동인구       가중치\n",
       "0  0.308622  0.406803  0.282137  0.277551  0.318778\n",
       "1  0.134183  0.176871  0.217028  0.212245  0.185082\n",
       "2  0.284882  0.212245  0.260434  0.265306  0.255717\n",
       "3  0.272313  0.204082  0.240401  0.244898  0.240423\n",
       "4  1.000000  1.000000  1.000000  1.000000  1.000000"
      ]
     },
     "execution_count": 221,
     "metadata": {},
     "output_type": "execute_result"
    }
   ],
   "source": [
    "ahp_norm"
   ]
  },
  {
   "cell_type": "markdown",
   "id": "c650dedd",
   "metadata": {},
   "source": [
    "### 가중치"
   ]
  },
  {
   "cell_type": "code",
   "execution_count": 228,
   "id": "ce418acc",
   "metadata": {},
   "outputs": [],
   "source": [
    "x = list(ahp_df.columns)\n",
    "y = norm_weight_list[:4]"
   ]
  },
  {
   "cell_type": "code",
   "execution_count": 229,
   "id": "6348a4e3",
   "metadata": {},
   "outputs": [],
   "source": [
    "# 그래프 한글 출력을 위함\n",
    "plt.rcParams['font.family'] = 'Malgun Gothic' "
   ]
  },
  {
   "cell_type": "code",
   "execution_count": 232,
   "id": "e23b0f66",
   "metadata": {},
   "outputs": [
    {
     "data": {
      "image/png": "[encoded data removed]",
      "text/plain": [
       "<Figure size 432x288 with 1 Axes>"
      ]
     },
     "metadata": {
      "needs_background": "light"
     },
     "output_type": "display_data"
    }
   ],
   "source": [
    "plt.bar(x, y, color=['cornflowerblue','black','black','black'])\n",
    "plt.xlabel('최종 요인')\n",
    "plt.ylabel('가중치')\n",
    "\n",
    "\n",
    "for i, v in enumerate(x):\n",
    "    plt.text(v, y[i],round(y[i],3),                 # 좌표 (x축 = v, y축 = y[0]..y[1], 표시 = y[0]..y[1])\n",
    "             fontsize = 9, \n",
    "             color='black',\n",
    "             horizontalalignment='center',  # horizontalalignment (left, center, right)\n",
    "             verticalalignment='bottom', # verticalalignment (top, center, bottom)\n",
    "            )    \n",
    "    \n",
    "plt.savefig('AHP_막대그래프',dpi=300) # 막대그래프 결과를 저장\n",
    "plt.show()"
   ]
  },
  {
   "cell_type": "markdown",
   "id": "ef86c19f",
   "metadata": {},
   "source": [
    "# 일관성 비율 계산"
   ]
  },
  {
   "cell_type": "code",
   "execution_count": 298,
   "id": "5b8523b4",
   "metadata": {},
   "outputs": [
    {
     "data": {
      "text/html": [
       "<div>\n",
       "<style scoped>\n",
       "    .dataframe tbody tr th:only-of-type {\n",
       "        vertical-align: middle;\n",
       "    }\n",
       "\n",
       "    .dataframe tbody tr th {\n",
       "        vertical-align: top;\n",
       "    }\n",
       "\n",
       "    .dataframe thead th {\n",
       "        text-align: right;\n",
       "    }\n",
       "</style>\n",
       "<table border=\"1\" class=\"dataframe\">\n",
       "  <thead>\n",
       "    <tr style=\"text-align: right;\">\n",
       "      <th></th>\n",
       "      <th>환경</th>\n",
       "      <th>1인가구</th>\n",
       "      <th>상권</th>\n",
       "      <th>유동인구</th>\n",
       "      <th>가중치</th>\n",
       "      <th>행렬곱</th>\n",
       "    </tr>\n",
       "  </thead>\n",
       "  <tbody>\n",
       "    <tr>\n",
       "      <th>0</th>\n",
       "      <td>1.000000</td>\n",
       "      <td>2.300000</td>\n",
       "      <td>1.083333</td>\n",
       "      <td>1.133333</td>\n",
       "      <td>0.318778</td>\n",
       "      <td>1.293972</td>\n",
       "    </tr>\n",
       "    <tr>\n",
       "      <th>1</th>\n",
       "      <td>0.434783</td>\n",
       "      <td>1.000000</td>\n",
       "      <td>0.833333</td>\n",
       "      <td>0.866667</td>\n",
       "      <td>0.185082</td>\n",
       "      <td>0.745145</td>\n",
       "    </tr>\n",
       "    <tr>\n",
       "      <th>2</th>\n",
       "      <td>0.923077</td>\n",
       "      <td>1.200000</td>\n",
       "      <td>1.000000</td>\n",
       "      <td>1.083333</td>\n",
       "      <td>0.255717</td>\n",
       "      <td>1.032530</td>\n",
       "    </tr>\n",
       "    <tr>\n",
       "      <th>3</th>\n",
       "      <td>0.882353</td>\n",
       "      <td>1.153846</td>\n",
       "      <td>0.923077</td>\n",
       "      <td>1.000000</td>\n",
       "      <td>0.240423</td>\n",
       "      <td>0.971300</td>\n",
       "    </tr>\n",
       "  </tbody>\n",
       "</table>\n",
       "</div>"
      ],
      "text/plain": [
       "         환경      1인가구        상권      유동인구       가중치       행렬곱\n",
       "0  1.000000  2.300000  1.083333  1.133333  0.318778  1.293972\n",
       "1  0.434783  1.000000  0.833333  0.866667  0.185082  0.745145\n",
       "2  0.923077  1.200000  1.000000  1.083333  0.255717  1.032530\n",
       "3  0.882353  1.153846  0.923077  1.000000  0.240423  0.971300"
      ]
     },
     "execution_count": 298,
     "metadata": {},
     "output_type": "execute_result"
    }
   ],
   "source": [
    "ahp_lambda = ahp_df.iloc[:4,:]\n",
    "ahp_lambda[\"가중치\"] = ahp_norm[\"가중치\"].iloc[:4]\n",
    "# 1번 2번 곱합 - > 3번 생성\n",
    "ahp_lambda[\"행렬곱\"] =  np.dot(ahp_lambda.iloc[:,:4], ahp_lambda[\"가중치\"]) \n",
    "ahp_lambda"
   ]
  },
  {
   "cell_type": "code",
   "execution_count": 272,
   "id": "e60c5e34",
   "metadata": {},
   "outputs": [],
   "source": [
    "#ahp_lambda[\"행렬곱\"] = [np.dot(ahp_lambda.iloc[:4,0],ahp_lambda[\"가중치\"]),\n",
    "#np.dot(ahp_lambda.iloc[:4,1],ahp_lambda[\"가중치\"]),\n",
    "#np.dot(ahp_lambda.iloc[:4,2],ahp_lambda[\"가중치\"]),\n",
    "#np.dot(ahp_lambda.iloc[:4,3],ahp_lambda[\"가중치\"])]"
   ]
  },
  {
   "cell_type": "code",
   "execution_count": 301,
   "id": "cb80af1c",
   "metadata": {},
   "outputs": [
    {
     "data": {
      "text/html": [
       "<div>\n",
       "<style scoped>\n",
       "    .dataframe tbody tr th:only-of-type {\n",
       "        vertical-align: middle;\n",
       "    }\n",
       "\n",
       "    .dataframe tbody tr th {\n",
       "        vertical-align: top;\n",
       "    }\n",
       "\n",
       "    .dataframe thead th {\n",
       "        text-align: right;\n",
       "    }\n",
       "</style>\n",
       "<table border=\"1\" class=\"dataframe\">\n",
       "  <thead>\n",
       "    <tr style=\"text-align: right;\">\n",
       "      <th></th>\n",
       "      <th>환경</th>\n",
       "      <th>1인가구</th>\n",
       "      <th>상권</th>\n",
       "      <th>유동인구</th>\n",
       "      <th>가중치</th>\n",
       "      <th>행렬곱</th>\n",
       "      <th>lambda</th>\n",
       "    </tr>\n",
       "  </thead>\n",
       "  <tbody>\n",
       "    <tr>\n",
       "      <th>0</th>\n",
       "      <td>1.000000</td>\n",
       "      <td>2.300000</td>\n",
       "      <td>1.083333</td>\n",
       "      <td>1.133333</td>\n",
       "      <td>0.318778</td>\n",
       "      <td>1.293972</td>\n",
       "      <td>4.059164</td>\n",
       "    </tr>\n",
       "    <tr>\n",
       "      <th>1</th>\n",
       "      <td>0.434783</td>\n",
       "      <td>1.000000</td>\n",
       "      <td>0.833333</td>\n",
       "      <td>0.866667</td>\n",
       "      <td>0.185082</td>\n",
       "      <td>0.745145</td>\n",
       "      <td>4.026031</td>\n",
       "    </tr>\n",
       "    <tr>\n",
       "      <th>2</th>\n",
       "      <td>0.923077</td>\n",
       "      <td>1.200000</td>\n",
       "      <td>1.000000</td>\n",
       "      <td>1.083333</td>\n",
       "      <td>0.255717</td>\n",
       "      <td>1.032530</td>\n",
       "      <td>4.037790</td>\n",
       "    </tr>\n",
       "    <tr>\n",
       "      <th>3</th>\n",
       "      <td>0.882353</td>\n",
       "      <td>1.153846</td>\n",
       "      <td>0.923077</td>\n",
       "      <td>1.000000</td>\n",
       "      <td>0.240423</td>\n",
       "      <td>0.971300</td>\n",
       "      <td>4.039958</td>\n",
       "    </tr>\n",
       "  </tbody>\n",
       "</table>\n",
       "</div>"
      ],
      "text/plain": [
       "         환경      1인가구        상권      유동인구       가중치       행렬곱    lambda\n",
       "0  1.000000  2.300000  1.083333  1.133333  0.318778  1.293972  4.059164\n",
       "1  0.434783  1.000000  0.833333  0.866667  0.185082  0.745145  4.026031\n",
       "2  0.923077  1.200000  1.000000  1.083333  0.255717  1.032530  4.037790\n",
       "3  0.882353  1.153846  0.923077  1.000000  0.240423  0.971300  4.039958"
      ]
     },
     "execution_count": 301,
     "metadata": {},
     "output_type": "execute_result"
    }
   ],
   "source": [
    "# 3번을 2번으로 나눔\n",
    "ahp_lambda[\"lambda\"]= ahp_lambda[\"행렬곱\"]/ahp_lambda[\"가중치\"] \n",
    "ahp_lambda"
   ]
  },
  {
   "cell_type": "code",
   "execution_count": 302,
   "id": "743449c0",
   "metadata": {},
   "outputs": [
    {
     "data": {
      "text/plain": [
       "4.040735630780919"
      ]
     },
     "execution_count": 302,
     "metadata": {},
     "output_type": "execute_result"
    }
   ],
   "source": [
    "lambda_max = ahp_lambda[\"lambda\"].sum() / len(ahp_lambda[\"lambda\"])\n",
    "lambda_max"
   ]
  },
  {
   "cell_type": "markdown",
   "id": "10ccc7b8",
   "metadata": {},
   "source": [
    " 일반적으로 CR이 0.10 이하(n ≥ 5인 경우), 0.09 이하(n = 4인 경우), 0.05 이하(n = 3인 경우)이면 허용되는 것으로 간주"
   ]
  },
  {
   "cell_type": "code",
   "execution_count": 303,
   "id": "945126b1",
   "metadata": {},
   "outputs": [
    {
     "data": {
      "text/plain": [
       "0.0135785435936396"
      ]
     },
     "execution_count": 303,
     "metadata": {},
     "output_type": "execute_result"
    }
   ],
   "source": [
    "# ※ CI(Consistency Index)는 0.1 이하의 값은 일관성을 신뢰할 수 있음을 의미\n",
    "# 응답에 있어 논리적 모순을 검증하는 지표가 C.I\n",
    "\n",
    "n=4\n",
    "CI = (lambda_max-n)/(n-1) # 일관성 지수\n",
    "CI "
   ]
  },
  {
   "cell_type": "code",
   "execution_count": 304,
   "id": "08fac509",
   "metadata": {},
   "outputs": [
    {
     "data": {
      "text/plain": [
       "0.015087270659599555"
      ]
     },
     "execution_count": 304,
     "metadata": {},
     "output_type": "execute_result"
    }
   ],
   "source": [
    "# ※ RI(Random Consistency Index)는 평균 무작위 수준(Saaty, 1982) 기준에 따라 0.9으로 적용\n",
    "# http://blog.skby.net/ahp-analytic-hierarchy-process/\n",
    "RI = 0.9\n",
    "CR = CI/RI # 일관성 비율\n",
    "CR"
   ]
  },
  {
   "cell_type": "code",
   "execution_count": null,
   "id": "4f658d8a",
   "metadata": {},
   "outputs": [],
   "source": []
  },
  {
   "cell_type": "code",
   "execution_count": null,
   "id": "9a0ce4fb",
   "metadata": {},
   "outputs": [],
   "source": []
  }
 ],
 "metadata": {
  "kernelspec": {
   "display_name": "Python 3 (ipykernel)",
   "language": "python",
   "name": "python3"
  },
  "language_info": {
   "codemirror_mode": {
    "name": "ipython",
    "version": 3
   },
   "file_extension": ".py",
   "mimetype": "text/x-python",
   "name": "python",
   "nbconvert_exporter": "python",
   "pygments_lexer": "ipython3",
   "version": "3.9.12"
  }
 },
 "nbformat": 4,
 "nbformat_minor": 5
}
